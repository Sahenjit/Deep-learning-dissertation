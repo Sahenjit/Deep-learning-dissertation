{
 "cells": [
  {
   "cell_type": "code",
   "execution_count": 16,
   "metadata": {},
   "outputs": [],
   "source": [
    "import tensorflow as tf\n",
    "import numpy as np\n",
    "\n",
    "import matplotlib.pyplot as plt\n",
    "from scipy.stats import norm\n",
    "\n",
    "tf.compat.v1.disable_eager_execution()"
   ]
  },
  {
   "cell_type": "code",
   "execution_count": 17,
   "metadata": {},
   "outputs": [],
   "source": [
    "from mpl_toolkits.mplot3d import Axes3D\n"
   ]
  },
  {
   "cell_type": "code",
   "execution_count": 18,
   "metadata": {},
   "outputs": [],
   "source": [
    "dimension_state = 2\n",
    "\n",
    "riskfree_rate = 0.05\n",
    "volatility = 0.25 \n",
    "strike_price = 0.5\n",
    "correlation = 0.1\n",
    "\n",
    "# Time limits\n",
    "T_min = 0.\n",
    "T_max  = 1.\n",
    "\n",
    "# Space limits\n",
    "S_min = 0.\n",
    "S_max = 1.\n",
    "\n",
    "# Network parameters\n",
    "nr_layers = 3\n",
    "nr_nodes_per_layer = 50\n",
    "initial_learning_rate = 0.001\n",
    "learning_rate_decay_steps = 10000\n",
    "learning_rate_decay_rate = 1.0\n",
    "\n",
    "# Training parameters\n",
    "steps_per_sample = 10\n",
    "nr_epochs = 1000\n",
    "\n",
    "# Number of samples\n",
    "N_interior = 15000\n",
    "N_initial = 15000\n",
    "\n",
    "payoff_geometric = False"
   ]
  },
  {
   "cell_type": "code",
   "execution_count": 19,
   "metadata": {},
   "outputs": [],
   "source": [
    "# Loss function\n",
    "def get_residual(model, t_interior, x_interior, t_initial, x_initial):\n",
    "    # Loss term #1: PDE\n",
    "    V = model(t_interior, x_interior)\n",
    "    V_t = tf.gradients(V, t_interior)[0]\n",
    "    V_x = tf.gradients(V, x_interior)[0]\n",
    "    \n",
    "    grad_V = [tf.slice(V_x, (0, i), (-1,1)) for i in range(dimension_state)]\n",
    "    \n",
    "    V_xx = [tf.gradients(grad_V[i], x_interior)[0] for i in range(dimension_state)]\n",
    "    Hessian_V = [[tf.slice(V_xx[i], (0, j), (-1, 1)) for j in range(dimension_state)] for i in range(dimension_state)]\n",
    "\n",
    "    x_interior_sliced = [tf.slice(x_interior, (0, i), (-1, 1)) for i in range(dimension_state)]\n",
    "    \n",
    "    f = -V_t + riskfree_rate * V \n",
    "    for i in range(dimension_state):\n",
    "        volatility_i = volatility\n",
    "        f-=riskfree_rate*x_interior_sliced[i]*grad_V[i]\n",
    "        for j in range(dimension_state):\n",
    "            volatility_j = volatility\n",
    "            correlation_ij = 1 if i==j else correlation\n",
    "            f -= 0.5 * volatility_i * volatility_j * correlation_ij * x_interior_sliced[i] * x_interior_sliced[j] *\\\n",
    "                Hessian_V[i][j]\n",
    "\n",
    "    L1 = tf.reduce_mean(tf.square(f))\n",
    "\n",
    "    #Loss term #2: initial/terminal condition\n",
    "    x_interior_sliced = [tf.slice(x_interior, (0, i), (-1, 1)) for i in range(dimension_state)]\n",
    "    \n",
    "    payoff=tf.math.maximum(0.,tf.subtract(sum(x_interior_sliced)/dimension_state,strike_price))\n",
    "    \n",
    "    L2=tf.reduce_mean(tf.square(tf.math.maximum(0.,payoff-V)))\n",
    "    \n",
    "    \n",
    "    # Loss term #3: initial/terminal condition\n",
    "    x_initial_sliced = [tf.slice(x_initial, (0, i), (-1, 1)) for i in range(dimension_state)]\n",
    "    \n",
    "    L3 = tf.reduce_mean(tf.square(\n",
    "        model(t_initial,x_initial) - tf.math.maximum(0., sum(x_initial_sliced)/dimension_state - strike_price)))\n",
    "\n",
    "    return (L1,L2,L3)\n"
   ]
  },
  {
   "cell_type": "code",
   "execution_count": 20,
   "metadata": {},
   "outputs": [],
   "source": [
    "# DGM neural network model\n",
    "class DNN(tf.keras.Model):\n",
    "    def __init__(self, nr_layers, nr_nodes_each_layer, dimension_state=1):\n",
    "        tf.keras.Model.__init__(self)\n",
    "        \n",
    "        self.nr_layers = nr_layers\n",
    "\n",
    "        self.initial_layer = DenseLayer(dimension_state + 1, nr_nodes_each_layer, activation=tf.nn.tanh)\n",
    "        self.hidden_layers = []\n",
    "        for _ in range(nr_layers):\n",
    "            self.hidden_layers.append(LayerFromPaper(dimension_state + 1, nr_nodes_each_layer, activation=tf.nn.tanh))\n",
    "        self.final_layer = DenseLayer(nr_nodes_each_layer, 1, activation=None)\n",
    "\n",
    "\n",
    "    def call(self, t, x):\n",
    "        X = tf.concat([t,x], 1)\n",
    "\n",
    "        S = self.initial_layer.call(X)\n",
    "        for i in range(self.nr_layers):\n",
    "            S = self.hidden_layers[i].call({'S': S, 'X': X})\n",
    "        result = self.final_layer.call(S)\n",
    "\n",
    "        return result\n",
    "    \n",
    "\n",
    "\n",
    "# Neural network layers\n",
    "\n",
    "class DenseLayer(tf.keras.layers.Layer):\n",
    "    def __init__(self, nr_inputs, nr_outputs, activation):\n",
    "        tf.keras.layers.Layer.__init__(self)\n",
    "        \n",
    "        self.initializer = tf.keras.initializers.glorot_normal\n",
    "        #self.initializer=tf.contrib.layers.xavier_initializer()) #TF 1\n",
    "\n",
    "        self.nr_inputs = nr_inputs\n",
    "        self.nr_outputs = nr_outputs\n",
    "        \n",
    "        self.W = self.add_variable(\"W\", shape=[self.nr_inputs, self.nr_outputs],\n",
    "                                   initializer=self.initializer())\n",
    "        self.b = self.add_variable(\"b\", shape=[1, self.nr_outputs])\n",
    "\n",
    "        self.activation = activation\n",
    "    \n",
    "    \n",
    "    def call(self, inputs):\n",
    "        S = tf.add(tf.matmul(inputs, self.W), self.b)\n",
    "        if not self.activation == None:\n",
    "            S = self.activation(S)\n",
    "\n",
    "        return S\n",
    "\n",
    "\n",
    "\n",
    "class LayerFromPaper(tf.keras.layers.Layer):\n",
    "    def __init__(self, nr_inputs, nr_outputs, activation):\n",
    "        tf.keras.layers.Layer.__init__(self)\n",
    "\n",
    "        self.initializer = tf.keras.initializers.glorot_normal\n",
    "        #self.initializer=tf.contrib.layers.xavier_initializer()) #TF 1\n",
    "        \n",
    "        self.nr_outputs = nr_outputs\n",
    "        self.nr_inputs = nr_inputs\n",
    "\n",
    "        self.Uz = self.add_variable(\"Uz\", shape=[self.nr_inputs, self.nr_outputs],\n",
    "                                    initializer=self.initializer())\n",
    "        self.Ug = self.add_variable(\"Ug\", shape=[self.nr_inputs, self.nr_outputs],\n",
    "                                    initializer=self.initializer())\n",
    "        self.Ur = self.add_variable(\"Ur\", shape=[self.nr_inputs, self.nr_outputs],\n",
    "                                    initializer=self.initializer())\n",
    "        self.Uh = self.add_variable(\"Uh\", shape=[self.nr_inputs, self.nr_outputs],\n",
    "                                    initializer=self.initializer())\n",
    "        self.Wz = self.add_variable(\"Wz\", shape=[self.nr_outputs, self.nr_outputs],\n",
    "                                    initializer=self.initializer())\n",
    "        self.Wg = self.add_variable(\"Wg\", shape=[self.nr_outputs, self.nr_outputs],\n",
    "                                    initializer=self.initializer())\n",
    "        self.Wr = self.add_variable(\"Wr\", shape=[self.nr_outputs, self.nr_outputs],\n",
    "                                    initializer=self.initializer())\n",
    "        self.Wh = self.add_variable(\"Wh\", shape=[self.nr_outputs, self.nr_outputs],\n",
    "                                    initializer=self.initializer())\n",
    "        self.bz = self.add_variable(\"bz\", shape=[1, self.nr_outputs])\n",
    "        self.bg = self.add_variable(\"bg\", shape=[1, self.nr_outputs])\n",
    "        self.br = self.add_variable(\"br\", shape=[1, self.nr_outputs])\n",
    "        self.bh = self.add_variable(\"bh\", shape=[1, self.nr_outputs])\n",
    "\n",
    "        self.activation = activation\n",
    "\n",
    "    \n",
    "    def call(self, inputs):\n",
    "        S = inputs['S']\n",
    "        X = inputs['X']\n",
    "\n",
    "        Z = self.activation(tf.add(tf.add(tf.matmul(X, self.Uz), tf.matmul(S, self.Wz)), self.bz))\n",
    "        G = self.activation(tf.add(tf.add(tf.matmul(X, self.Ug), tf.matmul(S, self.Wg)), self.bg))\n",
    "        R = self.activation(tf.add(tf.add(tf.matmul(X, self.Ur), tf.matmul(S, self.Wr)), self.br))\n",
    "        H = self.activation(tf.add(tf.add(tf.matmul(X, self.Uh), tf.matmul(tf.multiply(S, R), self.Wh)), self.bh))\n",
    "        Snew = tf.add(tf.multiply(tf.subtract(tf.ones_like(G), G), H), tf.multiply(Z, S))\n",
    "\n",
    "        return Snew"
   ]
  },
  {
   "cell_type": "code",
   "execution_count": 21,
   "metadata": {},
   "outputs": [],
   "source": [
    "# Sampling\n",
    "def get_monte_carlo_points(N_interior, N_initial, dimension_state=1):\n",
    "    # Sampler #1: PDE domain\n",
    "    t_interior = np.random.uniform(low=T_min - 0.5*(T_max - T_min),\n",
    "                           high=T_max,\n",
    "                           size=[N_interior,1])\n",
    "    s_interior = np.random.uniform(low=S_min - (S_max - S_min)*0.5,\n",
    "                           high=S_max + (S_max - S_min)*0.5,\n",
    "                           size=[N_interior,dimension_state])\n",
    "    \n",
    "    # Sampler #2: initial/terminal condition\n",
    "    t_initial = T_max * np.ones((N_initial,1)) #Terminal condition\n",
    "    s_initial = np.random.uniform(low=S_min - (S_max - S_min)*0.0,\n",
    "                           high=S_max + (S_max - S_min)*0.5,\n",
    "                           size=[N_initial,dimension_state])\n",
    "    \n",
    "    return (t_interior, s_interior, t_initial, s_initial)"
   ]
  },
  {
   "cell_type": "code",
   "execution_count": 22,
   "metadata": {
    "scrolled": false
   },
   "outputs": [
    {
     "name": "stdout",
     "output_type": "stream",
     "text": [
      "WARNING:tensorflow:Entity <bound method DNN.call of <__main__.DNN object at 0x7fbb62693f28>> could not be transformed and will be executed as-is. Please report this to the AutgoGraph team. When filing the bug, set the verbosity to 10 (on Linux, `export AUTOGRAPH_VERBOSITY=10`) and attach the full output. Cause: converting <bound method DNN.call of <__main__.DNN object at 0x7fbb62693f28>>: AttributeError: module 'gast' has no attribute 'Num'\n",
      "WARNING: Entity <bound method DNN.call of <__main__.DNN object at 0x7fbb62693f28>> could not be transformed and will be executed as-is. Please report this to the AutgoGraph team. When filing the bug, set the verbosity to 10 (on Linux, `export AUTOGRAPH_VERBOSITY=10`) and attach the full output. Cause: converting <bound method DNN.call of <__main__.DNN object at 0x7fbb62693f28>>: AttributeError: module 'gast' has no attribute 'Num'\n",
      "WARNING:tensorflow:Entity <bound method DNN.call of <__main__.DNN object at 0x7fbb62693f28>> could not be transformed and will be executed as-is. Please report this to the AutgoGraph team. When filing the bug, set the verbosity to 10 (on Linux, `export AUTOGRAPH_VERBOSITY=10`) and attach the full output. Cause: converting <bound method DNN.call of <__main__.DNN object at 0x7fbb62693f28>>: AttributeError: module 'gast' has no attribute 'Num'\n",
      "WARNING: Entity <bound method DNN.call of <__main__.DNN object at 0x7fbb62693f28>> could not be transformed and will be executed as-is. Please report this to the AutgoGraph team. When filing the bug, set the verbosity to 10 (on Linux, `export AUTOGRAPH_VERBOSITY=10`) and attach the full output. Cause: converting <bound method DNN.call of <__main__.DNN object at 0x7fbb62693f28>>: AttributeError: module 'gast' has no attribute 'Num'\n",
      "WARNING:tensorflow:Entity <bound method DNN.call of <__main__.DNN object at 0x7fbb62693f28>> could not be transformed and will be executed as-is. Please report this to the AutgoGraph team. When filing the bug, set the verbosity to 10 (on Linux, `export AUTOGRAPH_VERBOSITY=10`) and attach the full output. Cause: converting <bound method DNN.call of <__main__.DNN object at 0x7fbb62693f28>>: AttributeError: module 'gast' has no attribute 'Num'\n",
      "WARNING: Entity <bound method DNN.call of <__main__.DNN object at 0x7fbb62693f28>> could not be transformed and will be executed as-is. Please report this to the AutgoGraph team. When filing the bug, set the verbosity to 10 (on Linux, `export AUTOGRAPH_VERBOSITY=10`) and attach the full output. Cause: converting <bound method DNN.call of <__main__.DNN object at 0x7fbb62693f28>>: AttributeError: module 'gast' has no attribute 'Num'\n"
     ]
    }
   ],
   "source": [
    "# Neural Network definition\n",
    "\n",
    "model = DNN(nr_layers, nr_nodes_per_layer, dimension_state=dimension_state)\n",
    "\n",
    "t_interior_tf = tf.compat.v1.placeholder(tf.float32, shape=(None, 1), name=\"time_interior\")\n",
    "x_interior_tf = tf.compat.v1.placeholder(tf.float32, shape=(None, dimension_state), name=\"stock_prices_interior\")\n",
    "t_initial_tf = tf.compat.v1.placeholder(tf.float32, shape=(None, 1), name=\"time_initial\")\n",
    "x_initial_tf = tf.compat.v1.placeholder(tf.float32, shape=(None, dimension_state), name=\"stock_prices_initial\")\n",
    "\n",
    "residual_interior, residual_exterior,residual_initial = get_residual(model, t_interior_tf, x_interior_tf, t_initial_tf, x_initial_tf)\n",
    "residual = residual_interior + residual_initial+residual_exterior\n",
    "\n",
    "# Optimizer parameters\n",
    "nr_steps = tf.Variable(0, trainable=False)\n",
    "learning_rate = tf.compat.v1.train.exponential_decay(initial_learning_rate, nr_steps,\n",
    "                                           learning_rate_decay_steps, \n",
    "                                           learning_rate_decay_rate, staircase=True)\n",
    "optimizer = tf.compat.v1.train.AdamOptimizer(learning_rate=learning_rate).minimize(residual)\n",
    "\n",
    "\n",
    "\n",
    "\n",
    "# Plot tensors\n",
    "tplot_t = tf.compat.v1.placeholder(tf.float32, [None,1], name=\"tplot_t\") # We name to recover it later\n",
    "xplot_t = tf.compat.v1.placeholder(tf.float32, [None,dimension_state], name=\"xplot_t\")\n",
    "vplot_t = tf.identity(model(tplot_t, xplot_t), name=\"vplot_t\") # Trick for naming the trained model\n",
    "\n",
    "\n",
    "# Training data holders\n",
    "residuals_list = []\n",
    "\n",
    "# Train network!!\n",
    "init_op = tf.compat.v1.global_variables_initializer()\n",
    "\n",
    "\n"
   ]
  },
  {
   "cell_type": "code",
   "execution_count": 23,
   "metadata": {},
   "outputs": [
    {
     "name": "stdout",
     "output_type": "stream",
     "text": [
      "Stage: 0000, Loss: 1.184907e-01, L1: 3.208780e-02,L2: 2.267419e-03, L3: 8.413552e-02\n",
      "Stage: 0100, Loss: 1.763401e-04, L1: 8.858709e-06,L2: 9.044693e-06, L3: 1.584367e-04\n",
      "Stage: 0200, Loss: 1.067352e-04, L1: 5.754616e-06,L2: 4.677591e-06, L3: 9.630299e-05\n",
      "Stage: 0300, Loss: 5.795775e-05, L1: 4.356717e-06,L2: 1.915816e-06, L3: 5.168522e-05\n",
      "Stage: 0400, Loss: 2.510952e-05, L1: 3.793258e-06,L2: 6.419432e-07, L3: 2.067432e-05\n",
      "Stage: 0500, Loss: 1.557741e-05, L1: 3.065465e-06,L2: 2.089270e-07, L3: 1.230302e-05\n",
      "Stage: 0600, Loss: 1.025551e-05, L1: 2.663638e-06,L2: 8.195363e-08, L3: 7.509918e-06\n",
      "Stage: 0700, Loss: 1.073222e-03, L1: 1.300682e-04,L2: 0.000000e+00, L3: 9.431538e-04\n",
      "Stage: 0800, Loss: 6.887956e-06, L1: 1.937808e-06,L2: 6.916850e-08, L3: 4.880980e-06\n",
      "Stage: 0900, Loss: 8.818475e-06, L1: 3.369234e-06,L2: 3.778439e-08, L3: 5.411456e-06\n"
     ]
    }
   ],
   "source": [
    "# before opening a tensorflow session, close the old one if possible\n",
    "\n",
    "try:\n",
    "    sess.close()\n",
    "except NameError:\n",
    "    pass \n",
    "sess =  tf.compat.v1.Session()\n",
    "\n",
    "sess.run(init_op)\n",
    "\n",
    "for epoch in range(nr_epochs):\n",
    "    t_interior_mc, x_interior_mc, t_initial_mc, x_initial_mc = get_monte_carlo_points(N_interior, N_initial, dimension_state)\n",
    "\n",
    "    for _ in range(steps_per_sample):\n",
    "        residual_value, residual_interior_value,residual_exterior_value, residual_initial_value, _ = \\\n",
    "            sess.run([residual, residual_interior,residual_exterior, residual_initial, optimizer],\n",
    "                  feed_dict = {t_interior_tf:t_interior_mc, x_interior_tf:x_interior_mc,\n",
    "                                t_initial_tf:t_initial_mc, x_initial_tf:x_initial_mc})\n",
    "\n",
    "\n",
    "    residuals_list.append(residual_value)\n",
    "\n",
    "    if (not np.mod(epoch, 100)) or epoch==nr_epochs+1:\n",
    "        print(\"Stage: {:04d}, Loss: {:e}, L1: {:e},L2: {:e}, L3: {:e}\".format(\n",
    "            epoch, residual_value, residual_interior_value,residual_exterior_value,residual_initial_value) )"
   ]
  },
  {
   "cell_type": "code",
   "execution_count": 1,
   "metadata": {},
   "outputs": [],
   "source": [
    "def my_plot_2d_model(xlim=(0, 1), t=1, num_points = 30):\n",
    "    \n",
    "    \n",
    "    x1s = np.linspace(*xlim, num_points)\n",
    "    x2s = np.linspace(*xlim, num_points)\n",
    "    \n",
    "    x1s_grid, x2s_grid = np.meshgrid(x1s, x2s)\n",
    "    grid = np.concatenate((x1s_grid.reshape(-1,1), x2s_grid.reshape(-1,1)), axis=1)\n",
    "    tt = t*np.ones((num_points**2,1))\n",
    "\n",
    "    approxs = sess.run(vplot_t, feed_dict={tplot_t:tt, xplot_t:grid}).reshape(num_points, num_points)\n",
    "    \n",
    "    fig = plt.figure()\n",
    "    axis = fig.gca(projection='3d')\n",
    "    axis.plot_surface(x1s_grid, x2s_grid, np.transpose(approxs), rstride=1, cstride=1,\n",
    "                      cmap='viridis', edgecolor='none')\n",
    "    axis.set_title('American call options 2 dimensions', size=17)\n",
    "    axis.set_xlabel(r'$x1$', fontdict={'fontsize': 14})\n",
    "    axis.set_ylabel(r'$x2$', fontdict={'fontsize': 14})\n",
    "    axis.view_init(azim=120)\n",
    "    plt.savefig('3D call model multidim', dpi=100, bbox_inches='tight')\n",
    "    plt.show()"
   ]
  },
  {
   "cell_type": "code",
   "execution_count": 32,
   "metadata": {},
   "outputs": [],
   "source": [
    "if payoff_geometric:\n",
    "    V_T = lambda x:  np.maximum(np.prod(x, axis=1)**(1/dimension_state)-strike_price, 0)\n",
    "else:\n",
    "    V_T = lambda x:  np.maximum(np.mean(x, axis=1)-strike_price, 0)"
   ]
  },
  {
   "cell_type": "code",
   "execution_count": 33,
   "metadata": {},
   "outputs": [],
   "source": [
    "# cumulative density function of standard normal random variable\n",
    "def N(x):\n",
    "    return norm.cdf(x)"
   ]
  },
  {
   "cell_type": "code",
   "execution_count": 34,
   "metadata": {},
   "outputs": [],
   "source": [
    "# european call value analytical\n",
    "def V(S, K, T, r, sigma, rho):\n",
    "    if not payoff_geometric:\n",
    "        return None\n",
    "    d = np.size(S, axis=1)\n",
    "    S_mean = np.prod(S, axis=1)**(1/d)\n",
    "    if T>0:\n",
    "        vola_1d = ((d + d * (d - 1) * rho) / (d ** 2)) ** 0.5 * sigma\n",
    "        drift = - vola_1d ** 2 * 0.5 + sigma ** 2 * 0.5\n",
    "        d1 = (1 / ( vola_1d * np.math.sqrt(T) ) ) * (\n",
    "                np.log( S_mean / K ) + (r - drift + vola_1d**2 / 2) * (T) )\n",
    "        d2 = d1 - vola_1d * np.math.sqrt(T)\n",
    "        res = np.math.exp(-drift*T) * N(d1) * S_mean - N(d2) * K * np.math.exp(-1 * r * (T))\n",
    "        return res\n",
    "    else:\n",
    "        return V_T(S)"
   ]
  },
  {
   "cell_type": "code",
   "execution_count": 44,
   "metadata": {},
   "outputs": [],
   "source": [
    "def plot_V_2d(Slim = (0, 1), t=1, num_points = 20):\n",
    "    from mpl_toolkits.mplot3d import Axes3D\n",
    "    \n",
    "    S1s = np.linspace(*Slim, num_points)\n",
    "    S2s = np.linspace(*Slim, num_points)\n",
    "        \n",
    "    S1s_grid, S2s_grid = np.meshgrid(S1s, S2s)\n",
    "    ts = t\n",
    "    \n",
    "    Vs = np.zeros((num_points, num_points))\n",
    "    \n",
    "    for i in range(num_points):\n",
    "        for j in range(num_points):\n",
    "            Vs[i][j] = V(np.array((S1s[i], S2s[j])).reshape(1,-1), strike_price, 1-ts, riskfree_rate, volatility, correlation)\n",
    "    \n",
    "    fig = plt.figure()\n",
    "    axis = fig.gca(projection='3d')\n",
    "    axis.plot_surface(S1s_grid, S2s_grid, np.transpose(Vs), rstride=1, cstride=1,\n",
    "                      cmap='plasma', edgecolor='none')\n",
    "    axis.set_title('analytic option price', size=17)\n",
    "    axis.set_xlabel(r'$S1$', fontdict={'fontsize': 14})\n",
    "    axis.set_ylabel(r'$S2$', fontdict={'fontsize': 14})\n",
    "    axis.view_init(azim=135)\n",
    "    plt.savefig('3D call model multidim', dpi=100, bbox_inches='tight')\n",
    "    plt.show()"
   ]
  },
  {
   "cell_type": "code",
   "execution_count": 36,
   "metadata": {},
   "outputs": [
    {
     "name": "stderr",
     "output_type": "stream",
     "text": [
      "/Users/shankar/opt/miniconda3/envs/tensorflow/lib/python3.6/site-packages/ipykernel_launcher.py:19: UserWarning: Z contains NaN values. This may result in rendering artifacts.\n"
     ]
    },
    {
     "data": {
      "image/png": "[encoded data removed]",
      "text/plain": [
       "<Figure size 432x288 with 1 Axes>"
      ]
     },
     "metadata": {
      "needs_background": "light"
     },
     "output_type": "display_data"
    }
   ],
   "source": [
    "plot_V_2d(t=0)"
   ]
  },
  {
   "cell_type": "code",
   "execution_count": 2,
   "metadata": {},
   "outputs": [
    {
     "ename": "NameError",
     "evalue": "name 'np' is not defined",
     "output_type": "error",
     "traceback": [
      "\u001b[0;31m---------------------------------------------------------------------------\u001b[0m",
      "\u001b[0;31mNameError\u001b[0m                                 Traceback (most recent call last)",
      "\u001b[0;32m<ipython-input-2-daaa3e4b8baa>\u001b[0m in \u001b[0;36m<module>\u001b[0;34m\u001b[0m\n\u001b[0;32m----> 1\u001b[0;31m \u001b[0mmy_plot_2d_model\u001b[0m\u001b[0;34m(\u001b[0m\u001b[0mt\u001b[0m\u001b[0;34m=\u001b[0m\u001b[0;36m0\u001b[0m\u001b[0;34m)\u001b[0m\u001b[0;34m\u001b[0m\u001b[0;34m\u001b[0m\u001b[0m\n\u001b[0m",
      "\u001b[0;32m<ipython-input-1-14a985bf4933>\u001b[0m in \u001b[0;36mmy_plot_2d_model\u001b[0;34m(xlim, t, num_points)\u001b[0m\n\u001b[1;32m      2\u001b[0m \u001b[0;34m\u001b[0m\u001b[0m\n\u001b[1;32m      3\u001b[0m \u001b[0;34m\u001b[0m\u001b[0m\n\u001b[0;32m----> 4\u001b[0;31m     \u001b[0mx1s\u001b[0m \u001b[0;34m=\u001b[0m \u001b[0mnp\u001b[0m\u001b[0;34m.\u001b[0m\u001b[0mlinspace\u001b[0m\u001b[0;34m(\u001b[0m\u001b[0;34m*\u001b[0m\u001b[0mxlim\u001b[0m\u001b[0;34m,\u001b[0m \u001b[0mnum_points\u001b[0m\u001b[0;34m)\u001b[0m\u001b[0;34m\u001b[0m\u001b[0;34m\u001b[0m\u001b[0m\n\u001b[0m\u001b[1;32m      5\u001b[0m     \u001b[0mx2s\u001b[0m \u001b[0;34m=\u001b[0m \u001b[0mnp\u001b[0m\u001b[0;34m.\u001b[0m\u001b[0mlinspace\u001b[0m\u001b[0;34m(\u001b[0m\u001b[0;34m*\u001b[0m\u001b[0mxlim\u001b[0m\u001b[0;34m,\u001b[0m \u001b[0mnum_points\u001b[0m\u001b[0;34m)\u001b[0m\u001b[0;34m\u001b[0m\u001b[0;34m\u001b[0m\u001b[0m\n\u001b[1;32m      6\u001b[0m \u001b[0;34m\u001b[0m\u001b[0m\n",
      "\u001b[0;31mNameError\u001b[0m: name 'np' is not defined"
     ]
    }
   ],
   "source": [
    "my_plot_2d_model(t=0)"
   ]
  },
  {
   "cell_type": "code",
   "execution_count": null,
   "metadata": {},
   "outputs": [],
   "source": []
  }
 ],
 "metadata": {
  "kernelspec": {
   "display_name": "Python 3",
   "language": "python",
   "name": "python3"
  },
  "language_info": {
   "codemirror_mode": {
    "name": "ipython",
    "version": 3
   },
   "file_extension": ".py",
   "mimetype": "text/x-python",
   "name": "python",
   "nbconvert_exporter": "python",
   "pygments_lexer": "ipython3",
   "version": "3.6.10"
  }
 },
 "nbformat": 4,
 "nbformat_minor": 2
}
